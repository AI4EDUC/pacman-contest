{
 "metadata": {
  "language_info": {
   "codemirror_mode": {
    "name": "ipython",
    "version": 3
   },
   "file_extension": ".py",
   "mimetype": "text/x-python",
   "name": "python",
   "nbconvert_exporter": "python",
   "pygments_lexer": "ipython3",
   "version": "3.6.8-final"
  },
  "orig_nbformat": 2,
  "kernelspec": {
   "name": "Python 3.6.8 64-bit",
   "display_name": "Python 3.6.8 64-bit",
   "metadata": {
    "interpreter": {
     "hash": "767d51c1340bd893661ea55ea3124f6de3c7a262a8b4abca0554b478b1e2ff90"
    }
   }
  }
 },
 "nbformat": 4,
 "nbformat_minor": 2,
 "cells": [
  {
   "cell_type": "code",
   "execution_count": 1,
   "metadata": {},
   "outputs": [],
   "source": [
    "import streamlit as st\n",
    "import pandas as pd\n",
    "import numpy as np\n",
    "import plotly.express as px\n",
    "import seaborn as sns\n",
    "import matplotlib.pyplot as plt\n",
    "import plotly.graph_objects as go\n",
    "from plotly.subplots import make_subplots\n",
    "\n",
    "import json  \n",
    "from pandas.io.json import json_normalize  \n",
    " "
   ]
  },
  {
   "cell_type": "code",
   "execution_count": 2,
   "metadata": {},
   "outputs": [],
   "source": [
    " \n",
    "with open('/data/www/stats-archive/stats_2020-09-24-20-37.json') as f: \n",
    "    d = json.load(f) \n",
    "  \n"
   ]
  },
  {
   "cell_type": "code",
   "execution_count": 12,
   "metadata": {},
   "outputs": [],
   "source": [
    "\n",
    "df_games = json_normalize(d,'games') \n",
    "df_games.columns = ['Team1','Team2','Layout','Score','Winner','Time']\n"
   ]
  },
  {
   "cell_type": "code",
   "execution_count": 23,
   "metadata": {},
   "outputs": [],
   "source": [
    "\n",
    "df_games = df_games.assign(ReplayFile=\"<a href=\\\"\"+df_games.Team1 + \"_vs_\" + df_games.Team2 + \"_\"+ df_games.Layout + \".replay\\\"> Download Replay </a>\")\n",
    "#df_games = df_games.assign(replay=f'{df_games.Team1}_vs_{df_games.Team2}_{df_games.Layout}.replay')"
   ]
  },
  {
   "cell_type": "code",
   "execution_count": 4,
   "metadata": {},
   "outputs": [
    {
     "output_type": "execute_result",
     "data": {
      "text/plain": [
       "array(['funpacman', 'staff_team_basic', 'staff_team_medium',\n",
       "       'staff_team_super', 'staff_team_top'], dtype=object)"
      ]
     },
     "metadata": {},
     "execution_count": 4
    }
   ],
   "source": [
    "np.unique(df_games[['Team1','Team2']].values)"
   ]
  },
  {
   "cell_type": "code",
   "execution_count": 5,
   "metadata": {},
   "outputs": [],
   "source": [
    "teams_to_compare = ['funpacman', 'staff_team_basic']\n",
    "\n",
    "comparison = df_games[(df_games['Team1'].isin(teams_to_compare)) & (df_games['Team2'].isin(teams_to_compare)) ] "
   ]
  },
  {
   "cell_type": "code",
   "execution_count": 6,
   "metadata": {},
   "outputs": [
    {
     "output_type": "execute_result",
     "data": {
      "text/plain": [
       "       Team1             Team2             Layout  Score     Winner  Time\n",
       "0  funpacman  staff_team_basic         RANDOM9192     25  funpacman    55\n",
       "1  funpacman  staff_team_basic  contest07cCapture     11  funpacman    72\n",
       "5  funpacman  staff_team_basic   contest14Capture     13  funpacman    61\n",
       "6  funpacman  staff_team_basic         RANDOM7701      8  funpacman    71"
      ],
      "text/html": "<div>\n<style scoped>\n    .dataframe tbody tr th:only-of-type {\n        vertical-align: middle;\n    }\n\n    .dataframe tbody tr th {\n        vertical-align: top;\n    }\n\n    .dataframe thead th {\n        text-align: right;\n    }\n</style>\n<table border=\"1\" class=\"dataframe\">\n  <thead>\n    <tr style=\"text-align: right;\">\n      <th></th>\n      <th>Team1</th>\n      <th>Team2</th>\n      <th>Layout</th>\n      <th>Score</th>\n      <th>Winner</th>\n      <th>Time</th>\n    </tr>\n  </thead>\n  <tbody>\n    <tr>\n      <th>0</th>\n      <td>funpacman</td>\n      <td>staff_team_basic</td>\n      <td>RANDOM9192</td>\n      <td>25</td>\n      <td>funpacman</td>\n      <td>55</td>\n    </tr>\n    <tr>\n      <th>1</th>\n      <td>funpacman</td>\n      <td>staff_team_basic</td>\n      <td>contest07cCapture</td>\n      <td>11</td>\n      <td>funpacman</td>\n      <td>72</td>\n    </tr>\n    <tr>\n      <th>5</th>\n      <td>funpacman</td>\n      <td>staff_team_basic</td>\n      <td>contest14Capture</td>\n      <td>13</td>\n      <td>funpacman</td>\n      <td>61</td>\n    </tr>\n    <tr>\n      <th>6</th>\n      <td>funpacman</td>\n      <td>staff_team_basic</td>\n      <td>RANDOM7701</td>\n      <td>8</td>\n      <td>funpacman</td>\n      <td>71</td>\n    </tr>\n  </tbody>\n</table>\n</div>"
     },
     "metadata": {},
     "execution_count": 6
    }
   ],
   "source": [
    "comparison[ comparison['Team1'] == comparison['Winner'] ] "
   ]
  },
  {
   "cell_type": "code",
   "execution_count": 7,
   "metadata": {},
   "outputs": [
    {
     "output_type": "execute_result",
     "data": {
      "text/plain": [
       "       Team1             Team2            Layout  Score Winner  Time\n",
       "3  funpacman  staff_team_basic  contest01Capture      0   None    74\n",
       "7  funpacman  staff_team_basic        RANDOM8592      0   None    74\n",
       "8  funpacman  staff_team_basic  contest13Capture      0   None    67"
      ],
      "text/html": "<div>\n<style scoped>\n    .dataframe tbody tr th:only-of-type {\n        vertical-align: middle;\n    }\n\n    .dataframe tbody tr th {\n        vertical-align: top;\n    }\n\n    .dataframe thead th {\n        text-align: right;\n    }\n</style>\n<table border=\"1\" class=\"dataframe\">\n  <thead>\n    <tr style=\"text-align: right;\">\n      <th></th>\n      <th>Team1</th>\n      <th>Team2</th>\n      <th>Layout</th>\n      <th>Score</th>\n      <th>Winner</th>\n      <th>Time</th>\n    </tr>\n  </thead>\n  <tbody>\n    <tr>\n      <th>3</th>\n      <td>funpacman</td>\n      <td>staff_team_basic</td>\n      <td>contest01Capture</td>\n      <td>0</td>\n      <td>None</td>\n      <td>74</td>\n    </tr>\n    <tr>\n      <th>7</th>\n      <td>funpacman</td>\n      <td>staff_team_basic</td>\n      <td>RANDOM8592</td>\n      <td>0</td>\n      <td>None</td>\n      <td>74</td>\n    </tr>\n    <tr>\n      <th>8</th>\n      <td>funpacman</td>\n      <td>staff_team_basic</td>\n      <td>contest13Capture</td>\n      <td>0</td>\n      <td>None</td>\n      <td>67</td>\n    </tr>\n  </tbody>\n</table>\n</div>"
     },
     "metadata": {},
     "execution_count": 7
    }
   ],
   "source": [
    "comparison.loc[ comparison['Winner'].isnull() ] "
   ]
  },
  {
   "cell_type": "code",
   "execution_count": 8,
   "metadata": {},
   "outputs": [],
   "source": [
    "\n",
    "games_t = {}\n",
    "wins_t = {}\n",
    "draws_t = {}\n",
    "total_draws = 0\n",
    "\n",
    "comparison_labels = [ ]\n",
    "comparison_values = [ ]\n",
    "\n",
    "for t in teams_to_compare:\n",
    "    games_t[t] =  comparison.loc[ (comparison['Team1'] == t ) | (comparison['Team2'] == t) ]\n",
    "    wins_t[t] = comparison[ comparison['Winner'] == t ]     \n",
    "    draws_t[t] = games_t[t].loc[ games_t[t]['Winner'].isnull() ] \n",
    "    \n",
    "    total_draws += len(draws_t[t].index)\n",
    "\n",
    "    comparison_labels += [f'{t} wins']\n",
    "    comparison_values += [len(wins_t[t].index)]\n",
    "\n",
    "total_draws /= 2            \n",
    "\n",
    "comparison_labels += ['Draws']\n",
    "comparison_values += [total_draws]"
   ]
  },
  {
   "cell_type": "code",
   "execution_count": 9,
   "metadata": {},
   "outputs": [],
   "source": [
    "\n"
   ]
  },
  {
   "cell_type": "code",
   "execution_count": 10,
   "metadata": {},
   "outputs": [
    {
     "output_type": "execute_result",
     "data": {
      "text/plain": [
       "{'funpacman': [23, 6, 5, 29, 0, -193],\n",
       " 'staff_team_basic': [15, 3, 6, 31, 0, -366],\n",
       " 'staff_team_medium': [58, 19, 1, 20, 0, -223],\n",
       " 'staff_team_top': [79, 25, 4, 11, 0, 192],\n",
       " 'staff_team_super': [117, 39, 0, 1, 0, 590]}"
      ]
     },
     "metadata": {},
     "execution_count": 10
    }
   ],
   "source": [
    " d['team_stats']"
   ]
  },
  {
   "cell_type": "code",
   "execution_count": 28,
   "metadata": {},
   "outputs": [],
   "source": [
    "df_stats = pd.DataFrame(columns=['Points', 'Win', 'Tie', 'Lost', 'FAILED','Score'], data=d['team_stats'].values(), index=d['team_stats'].keys()).sort_values(by='Points',ascending=False)\n",
    "\n",
    "# Create Position in the Table\n",
    "df_stats['Position'] = list(range(1,len(df_stats.index)+1))\n",
    "df_stats = df_stats[['Position','Points', 'Win', 'Tie', 'Lost', 'FAILED','Score']]"
   ]
  },
  {
   "cell_type": "code",
   "execution_count": 29,
   "metadata": {},
   "outputs": [
    {
     "output_type": "execute_result",
     "data": {
      "text/plain": [
       "5"
      ]
     },
     "metadata": {},
     "execution_count": 29
    }
   ],
   "source": [
    "df_stats.Position['staff_team_basic']"
   ]
  },
  {
   "cell_type": "code",
   "execution_count": 32,
   "metadata": {},
   "outputs": [
    {
     "output_type": "execute_result",
     "data": {
      "text/plain": [
       "False"
      ]
     },
     "metadata": {},
     "execution_count": 32
    }
   ],
   "source": [
    "'staff_team_basic' in df_stats.index"
   ]
  },
  {
   "cell_type": "code",
   "execution_count": null,
   "metadata": {},
   "outputs": [],
   "source": []
  }
 ]
}